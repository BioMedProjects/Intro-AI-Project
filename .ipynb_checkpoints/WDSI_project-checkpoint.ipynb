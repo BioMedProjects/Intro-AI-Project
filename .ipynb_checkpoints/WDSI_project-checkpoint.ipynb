{
 "cells": [
  {
   "cell_type": "markdown",
   "id": "01aa5706",
   "metadata": {
    "id": "01aa5706"
   },
   "source": [
    "# 1.Imports & reading dataset <a name=\"1\"></a>"
   ]
  },
  {
   "cell_type": "code",
   "execution_count": 1,
   "id": "IrWDWF8sYWGD",
   "metadata": {
    "id": "IrWDWF8sYWGD"
   },
   "outputs": [],
   "source": [
    "# !pip install https://github.com/pandas-profiling/pandas-profiling/archive/master.zip"
   ]
  },
  {
   "cell_type": "code",
   "execution_count": 2,
   "id": "08ba156d",
   "metadata": {
    "id": "08ba156d"
   },
   "outputs": [
    {
     "ename": "ModuleNotFoundError",
     "evalue": "No module named 'pandas_profiling'",
     "output_type": "error",
     "traceback": [
      "\u001b[1;31m---------------------------------------------------------------------------\u001b[0m",
      "\u001b[1;31mModuleNotFoundError\u001b[0m                       Traceback (most recent call last)",
      "\u001b[1;32m<ipython-input-2-97a944b88fb6>\u001b[0m in \u001b[0;36m<module>\u001b[1;34m\u001b[0m\n\u001b[0;32m      3\u001b[0m \u001b[1;32mimport\u001b[0m \u001b[0mseaborn\u001b[0m \u001b[1;32mas\u001b[0m \u001b[0msns\u001b[0m\u001b[1;33m\u001b[0m\u001b[1;33m\u001b[0m\u001b[0m\n\u001b[0;32m      4\u001b[0m \u001b[1;32mimport\u001b[0m \u001b[0mmatplotlib\u001b[0m\u001b[1;33m.\u001b[0m\u001b[0mpyplot\u001b[0m \u001b[1;32mas\u001b[0m \u001b[0mplt\u001b[0m\u001b[1;33m\u001b[0m\u001b[1;33m\u001b[0m\u001b[0m\n\u001b[1;32m----> 5\u001b[1;33m \u001b[1;32mimport\u001b[0m \u001b[0mpandas_profiling\u001b[0m \u001b[1;32mas\u001b[0m \u001b[0mpp\u001b[0m\u001b[1;33m\u001b[0m\u001b[1;33m\u001b[0m\u001b[0m\n\u001b[0m\u001b[0;32m      6\u001b[0m \u001b[1;32mfrom\u001b[0m \u001b[0msklearn\u001b[0m\u001b[1;33m.\u001b[0m\u001b[0mdecomposition\u001b[0m \u001b[1;32mimport\u001b[0m \u001b[0mPCA\u001b[0m\u001b[1;33m\u001b[0m\u001b[1;33m\u001b[0m\u001b[0m\n\u001b[0;32m      7\u001b[0m \u001b[1;32mfrom\u001b[0m \u001b[0msklearn\u001b[0m\u001b[1;33m.\u001b[0m\u001b[0mmodel_selection\u001b[0m \u001b[1;32mimport\u001b[0m \u001b[0mtrain_test_split\u001b[0m\u001b[1;33m,\u001b[0m \u001b[0mcross_val_score\u001b[0m\u001b[1;33m\u001b[0m\u001b[1;33m\u001b[0m\u001b[0m\n",
      "\u001b[1;31mModuleNotFoundError\u001b[0m: No module named 'pandas_profiling'"
     ]
    }
   ],
   "source": [
    "import numpy as np\n",
    "import pandas as pd\n",
    "import seaborn as sns\n",
    "import matplotlib.pyplot as plt\n",
    "# import pandas_profiling as pp\n",
    "from sklearn.decomposition import PCA\n",
    "from sklearn.model_selection import train_test_split, cross_val_score\n",
    "from sklearn.preprocessing import StandardScaler\n",
    "from sklearn.neighbors import KNeighborsClassifier \n",
    "from sklearn.metrics import accuracy_score, classification_report, plot_roc_curve, plot_confusion_matrix\n",
    "from mlxtend.plotting import plot_decision_regions"
   ]
  },
  {
   "cell_type": "code",
   "execution_count": null,
   "id": "4c807d48",
   "metadata": {
    "id": "4c807d48"
   },
   "outputs": [],
   "source": [
    "df = pd.read_csv('heart.csv')"
   ]
  },
  {
   "cell_type": "code",
   "execution_count": null,
   "id": "e3ac1c61",
   "metadata": {
    "colab": {
     "base_uri": "https://localhost:8080/"
    },
    "id": "e3ac1c61",
    "outputId": "48f0c42b-8ee7-4ba5-8123-227569ce3173"
   },
   "outputs": [],
   "source": [
    "df.shape"
   ]
  },
  {
   "cell_type": "code",
   "execution_count": null,
   "id": "db8b3f04",
   "metadata": {
    "colab": {
     "base_uri": "https://localhost:8080/",
     "height": 197
    },
    "id": "db8b3f04",
    "outputId": "edcdc149-e75f-4257-d42c-9d50d291a861"
   },
   "outputs": [],
   "source": [
    "df.head()"
   ]
  },
  {
   "cell_type": "code",
   "execution_count": null,
   "id": "6b9410ec",
   "metadata": {
    "colab": {
     "base_uri": "https://localhost:8080/",
     "height": 197
    },
    "id": "6b9410ec",
    "outputId": "98ea4a61-0215-48f1-d1e7-58d8792adb84"
   },
   "outputs": [],
   "source": [
    "df.tail()"
   ]
  },
  {
   "cell_type": "markdown",
   "id": "63da8f13",
   "metadata": {
    "id": "63da8f13"
   },
   "source": [
    "# 2.Data Description & Preprocessing<a name=\"2\"></a>"
   ]
  },
  {
   "cell_type": "code",
   "execution_count": null,
   "id": "51cd16e0",
   "metadata": {
    "colab": {
     "base_uri": "https://localhost:8080/"
    },
    "id": "51cd16e0",
    "outputId": "bf050f6f-e855-4ebc-aa83-30618b1f0c26"
   },
   "outputs": [],
   "source": [
    "df.info()"
   ]
  },
  {
   "cell_type": "code",
   "execution_count": null,
   "id": "4d317e54",
   "metadata": {
    "colab": {
     "base_uri": "https://localhost:8080/",
     "height": 287
    },
    "id": "4d317e54",
    "outputId": "60e2827d-c0ac-4563-864f-95b2ffa94854"
   },
   "outputs": [],
   "source": [
    "df.describe()"
   ]
  },
  {
   "cell_type": "code",
   "execution_count": null,
   "id": "d0621420",
   "metadata": {
    "colab": {
     "base_uri": "https://localhost:8080/"
    },
    "id": "d0621420",
    "outputId": "fce126cf-b765-455e-acaa-79e97454c6b0"
   },
   "outputs": [],
   "source": [
    "df.isnull().sum()"
   ]
  },
  {
   "cell_type": "code",
   "execution_count": null,
   "id": "bf6f2aaa",
   "metadata": {
    "colab": {
     "base_uri": "https://localhost:8080/"
    },
    "id": "bf6f2aaa",
    "outputId": "9ab98779-e803-4959-de08-4c148235b6bc"
   },
   "outputs": [],
   "source": [
    "# visualizing null values if it exists\n",
    "plt.figure(figsize=(22,10))\n",
    "\n",
    "plt.xticks(size=20,color='grey')\n",
    "plt.tick_params(size=12,color='grey')\n",
    "\n",
    "plt.title('Finding Null Values Using Heatmap\\n',color='grey',size=30)\n",
    "\n",
    "sns.heatmap(df.isnull(),\n",
    "            yticklabels=False,\n",
    "            cbar=False,\n",
    "            cmap='PuBu_r',\n",
    "            )"
   ]
  },
  {
   "cell_type": "code",
   "execution_count": null,
   "id": "98ce304c",
   "metadata": {
    "colab": {
     "base_uri": "https://localhost:8080/",
     "height": 406
    },
    "id": "98ce304c",
    "outputId": "42a27d95-e03e-4577-8a72-4a29565baf08",
    "scrolled": true
   },
   "outputs": [],
   "source": [
    "from scipy import stats\n",
    "df = df[(np.abs(stats.zscore(df)) < 3).all(axis=1)]\n",
    "df = df.reset_index(drop=True)\n",
    "df"
   ]
  },
  {
   "cell_type": "code",
   "execution_count": null,
   "id": "a51106cb",
   "metadata": {
    "id": "a51106cb"
   },
   "outputs": [],
   "source": [
    "age_column = df['BLOOD_PRESSURE']\n",
    "plt.figure(figsize=(14,8))\n",
    "plt.plot(age_column, 'ro')\n",
    "plt.show()"
   ]
  },
  {
   "cell_type": "code",
   "execution_count": null,
   "id": "7945bf4a",
   "metadata": {
    "id": "7945bf4a",
    "scrolled": true
   },
   "outputs": [],
   "source": [
    "# pp.ProfileReport(df)"
   ]
  },
  {
   "cell_type": "code",
   "execution_count": null,
   "id": "8f247e44",
   "metadata": {
    "id": "8f247e44"
   },
   "outputs": [],
   "source": [
    "corr_matrix = df.corr()\n",
    "\n",
    "plt.figure(figsize=(14,8))\n",
    "sns.heatmap(corr_matrix, linewidths=.01, annot = True, cmap='Blues')\n",
    "plt.show()"
   ]
  },
  {
   "cell_type": "code",
   "execution_count": null,
   "id": "2aec20e0",
   "metadata": {
    "colab": {
     "base_uri": "https://localhost:8080/"
    },
    "id": "2aec20e0",
    "outputId": "86711b42-c10c-40a0-b1ec-9a960e34fe58"
   },
   "outputs": [],
   "source": [
    "corr_matrix['TARGET'].sort_values(ascending=False)"
   ]
  },
  {
   "cell_type": "markdown",
   "id": "0286acd8",
   "metadata": {
    "id": "0286acd8"
   },
   "source": [
    "# 3. Split data to train, test and validation dataset<a name=\"2\"></a>"
   ]
  },
  {
   "cell_type": "code",
   "execution_count": null,
   "id": "f486310b",
   "metadata": {
    "colab": {
     "base_uri": "https://localhost:8080/"
    },
    "id": "f486310b",
    "outputId": "816aa104-1f74-42ff-e59b-060b412b78f5"
   },
   "outputs": [],
   "source": [
    "X = df.iloc[:, 0:13] # Features\n",
    "y = df.iloc[:, 13] # Target variable\n",
    "\n",
    "X_train, X_test, y_train, y_test = train_test_split(X, y, test_size=0.2, random_state=1)\n",
    "X_train, X_val, y_train, y_val = train_test_split(X_train, y_train, test_size=0.25, random_state=1) # 0.25 x 0.8 = 0.2\n",
    "\n",
    "print('Training data shape:', X_train.shape)\n",
    "print('Test data shape: ', X_test.shape)\n",
    "print('Validation data shape: ', X_val.shape)"
   ]
  },
  {
   "cell_type": "code",
   "execution_count": null,
   "id": "d38a522c",
   "metadata": {
    "id": "d38a522c"
   },
   "outputs": [],
   "source": [
    "sc = StandardScaler()\n",
    "X_train = sc.fit_transform(X_train)\n",
    "X_test = sc.transform(X_test)"
   ]
  },
  {
   "cell_type": "code",
   "execution_count": null,
   "id": "15d1124b",
   "metadata": {
    "id": "15d1124b"
   },
   "outputs": [],
   "source": [
    "pca = PCA()  \n",
    "pca_data=pca.fit_transform(X_train)\n",
    "percentage_var_explained = pca.explained_variance_ratio_;  \n",
    "cum_var_explained=np.cumsum(percentage_var_explained)\n",
    "# plot PCA spectrum   \n",
    "plt.figure(1,figsize=(14,8))\n",
    "plt.clf()  \n",
    "plt.plot(cum_var_explained,linewidth=2)  \n",
    "plt.axis('tight')  \n",
    "plt.grid() \n",
    "plt.xlabel('n_components') \n",
    "plt.ylabel('Cumulative_Variance_explained')  \n",
    "plt.show()"
   ]
  },
  {
   "cell_type": "code",
   "execution_count": null,
   "id": "a246a70d",
   "metadata": {
    "id": "a246a70d"
   },
   "outputs": [],
   "source": [
    "pca_5 =  PCA(n_components=5)\n",
    "X_train_pca_5 = pca_5.fit_transform(X_train)\n",
    "X_test_pca_5 = pca_5.transform(X_test)\n",
    "\n",
    "per_var = np.round(pca_5.explained_variance_ratio_* 100, decimals=1)\n",
    "labels = ['PC' + str(x) for x in range(1, len(per_var)+1)]\n",
    "\n",
    "plt.bar(x=range(1,len(per_var)+1), height=per_var, tick_label=labels)\n",
    "plt.ylabel('Percentage of Explained Variance')\n",
    "plt.xlabel('Principal Component')\n",
    "plt.title('Scree Plot')\n",
    "plt.show()"
   ]
  },
  {
   "cell_type": "code",
   "execution_count": null,
   "id": "2df586de",
   "metadata": {
    "colab": {
     "base_uri": "https://localhost:8080/",
     "height": 197
    },
    "id": "2df586de",
    "outputId": "5a08848a-1f24-4402-81c9-84524f91e977"
   },
   "outputs": [],
   "source": [
    "principalDf = pd.DataFrame(data=X_train_pca_5, columns=['PC1','PC2','PC3','PC4','PC5']) \n",
    "principalDf.head()\n",
    "finalDf = pd.concat([principalDf,df[['TARGET']]], axis=1)\n",
    "finalDf.head()"
   ]
  },
  {
   "cell_type": "code",
   "execution_count": null,
   "id": "2f468e7c",
   "metadata": {
    "id": "2f468e7c"
   },
   "outputs": [],
   "source": [
    "explained_variance = pca_5.explained_variance_ratio_\n",
    "explained_variance\n",
    "plt.scatter(x=range(1, len(per_var)+1), y=explained_variance)\n",
    "plt.show()"
   ]
  },
  {
   "cell_type": "markdown",
   "id": "2909bf23",
   "metadata": {
    "id": "2909bf23"
   },
   "source": [
    "# 3. KNN classification<a name=\"2\"></a>"
   ]
  },
  {
   "cell_type": "code",
   "execution_count": null,
   "id": "beb8661c",
   "metadata": {
    "colab": {
     "base_uri": "https://localhost:8080/"
    },
    "id": "beb8661c",
    "outputId": "932de205-9550-4793-bfc9-7fde126a4f11"
   },
   "outputs": [],
   "source": [
    "data = X_train\n",
    "data_test = X_test\n",
    "target = y_train\n",
    "target_test = y_test\n",
    "\n",
    "n_neighbors = 3\n",
    "kNN_classifier = KNeighborsClassifier(n_neighbors=n_neighbors)\n",
    "kNN_classifier.fit(data, target)\n",
    "\n",
    "# KNN VISUALISATION doesn't work !\n",
    "\n",
    "# plt.figure(figsize=(15,8))\n",
    "# ax = plot_decision_regions(X_train_pca_5, y_train, clf=kNN_classifier)\n",
    "# plt.xlabel('1. składowa PCA')\n",
    "# plt.ylabel('2. składowa PCA')\n",
    "# plt.title('Wizualizacja działania algorytmu kNN')\n",
    "# plt.grid()\n",
    "# handles, labels = ax.get_legend_handles_labels()\n",
    "# ax.legend(handles, target_names, framealpha=0.3, scatterpoints=1)"
   ]
  },
  {
   "cell_type": "code",
   "execution_count": null,
   "id": "e30021a9",
   "metadata": {
    "colab": {
     "base_uri": "https://localhost:8080/"
    },
    "id": "e30021a9",
    "outputId": "01c9eb0d-5d86-4636-81aa-ce946d499b80",
    "scrolled": true
   },
   "outputs": [],
   "source": [
    "print('----- K-NEAREST NEIGHBORS PERFORMANCE ON TRAINING DATASET -----')\n",
    "knn_predictions = kNN_classifier.predict(data)\n",
    "knn_accuracy = accuracy_score(target, knn_predictions)\n",
    "print('Accuracy: ', knn_accuracy)\n",
    "\n",
    "print(\"Classification report:\")\n",
    "target_names = ['class 1', 'class 2']\n",
    "print(classification_report(target, knn_predictions, target_names=target_names))\n",
    "\n",
    "print(\"Confusion matrix:\")\n",
    "plot_confusion_matrix(kNN_classifier, data, target)  \n",
    "\n",
    "print(\"ROC curve\")\n",
    "plot_roc_curve(kNN_classifier, data, target)  "
   ]
  },
  {
   "cell_type": "code",
   "execution_count": null,
   "id": "a8841363",
   "metadata": {
    "colab": {
     "base_uri": "https://localhost:8080/"
    },
    "id": "a8841363",
    "outputId": "368d972e-e5b7-49f2-c5e8-bd10cbd1a09c",
    "scrolled": true
   },
   "outputs": [],
   "source": [
    "print('----- K-NEAREST NEIGHBORS PERFORMANCE ON TEST DATASET -----')\n",
    "knn_predictions = kNN_classifier.predict(data_test)\n",
    "knn_accuracy = accuracy_score(target_test, knn_predictions)\n",
    "print('Accuracy: ', knn_accuracy)\n",
    "\n",
    "print(\"Classification report:\")\n",
    "target_names = ['class 1', 'class 2']\n",
    "print(classification_report(target_test, knn_predictions, target_names=target_names))\n",
    "\n",
    "print(\"Confusion matrix:\")\n",
    "plot_confusion_matrix(kNN_classifier, data_test, target_test)  \n",
    "\n",
    "print(\"ROC curve\")\n",
    "plot_roc_curve(kNN_classifier, data_test, target_test)  "
   ]
  },
  {
   "cell_type": "code",
   "execution_count": null,
   "id": "dab44c11",
   "metadata": {
    "colab": {
     "base_uri": "https://localhost:8080/"
    },
    "id": "dab44c11",
    "outputId": "0f88b7a6-d9f2-4ac6-c9ab-7802ae63ae12"
   },
   "outputs": [],
   "source": [
    "scores = cross_val_score(kNN_classifier, data, target, cv=5)\n",
    "print(\"Scores: \", sorted(scores))\n",
    "\n",
    "print(f\"{scores.mean()} accuracy with a standard deviation of {scores.std()}\")"
   ]
  },
  {
   "cell_type": "markdown",
   "id": "2eca0c8b",
   "metadata": {
    "id": "2eca0c8b"
   },
   "source": [
    "# 4. KNN classification with PCA<a name=\"2\"></a>"
   ]
  },
  {
   "cell_type": "code",
   "execution_count": null,
   "id": "b333fd33",
   "metadata": {
    "colab": {
     "base_uri": "https://localhost:8080/"
    },
    "id": "b333fd33",
    "outputId": "6d76cea5-f529-4328-e6fc-be41f132c626"
   },
   "outputs": [],
   "source": [
    "data = X_train_pca_5\n",
    "data_test = X_test_pca_5\n",
    "target = y_train\n",
    "target_test = y_test\n",
    "\n",
    "n_neighbors = 3\n",
    "kNN_classifier = KNeighborsClassifier(n_neighbors=n_neighbors)\n",
    "kNN_classifier.fit(data, target)"
   ]
  },
  {
   "cell_type": "code",
   "execution_count": null,
   "id": "e5572bdc",
   "metadata": {
    "colab": {
     "base_uri": "https://localhost:8080/"
    },
    "id": "e5572bdc",
    "outputId": "64e064b7-face-4f4b-962a-3d9bef4bb143",
    "scrolled": true
   },
   "outputs": [],
   "source": [
    "print('----- K-NEAREST NEIGHBORS PERFORMANCE WITH PCA ON TRAINING DATASET -----')\n",
    "knn_predictions = kNN_classifier.predict(data)\n",
    "knn_accuracy = accuracy_score(target, knn_predictions)\n",
    "print('Accuracy: ', knn_accuracy)\n",
    "\n",
    "print(\"Classification report:\")\n",
    "target_names = ['class 1', 'class 2']\n",
    "print(classification_report(target, knn_predictions, target_names=target_names))\n",
    "\n",
    "print(\"Confusion matrix:\")\n",
    "plot_confusion_matrix(kNN_classifier, data, target)  \n",
    "\n",
    "print(\"ROC curve\")\n",
    "plot_roc_curve(kNN_classifier, data, target)  "
   ]
  },
  {
   "cell_type": "code",
   "execution_count": null,
   "id": "67f7ca8a",
   "metadata": {
    "colab": {
     "base_uri": "https://localhost:8080/"
    },
    "id": "67f7ca8a",
    "outputId": "ebc0b6eb-4b4a-441d-8694-e5f74ddbb36e",
    "scrolled": true
   },
   "outputs": [],
   "source": [
    "print('----- K-NEAREST NEIGHBORS PERFORMANCE WITH PCA ON TEST DATASET -----')\n",
    "knn_predictions = kNN_classifier.predict(data_test)\n",
    "knn_accuracy = accuracy_score(target_test, knn_predictions)\n",
    "print('Accuracy: ', knn_accuracy)\n",
    "\n",
    "print(\"Classification report:\")\n",
    "target_names = ['class 1', 'class 2']\n",
    "print(classification_report(target_test, knn_predictions, target_names=target_names))\n",
    "\n",
    "print(\"Confusion matrix:\")\n",
    "plot_confusion_matrix(kNN_classifier, data_test, target_test)  \n",
    "\n",
    "print(\"ROC curve\")\n",
    "plot_roc_curve(kNN_classifier, data_test, target_test)  "
   ]
  },
  {
   "cell_type": "code",
   "execution_count": null,
   "id": "2c86afc7",
   "metadata": {
    "colab": {
     "base_uri": "https://localhost:8080/"
    },
    "id": "2c86afc7",
    "outputId": "a28abd2d-6783-4ed3-d916-331d28cef60b"
   },
   "outputs": [],
   "source": [
    "scores = cross_val_score(kNN_classifier, data_test, target_test, cv=5)\n",
    "print(\"Scores: \", sorted(scores))\n",
    "\n",
    "print(f\"{scores.mean()} accuracy with a standard deviation of {scores.std()}\")"
   ]
  },
  {
   "cell_type": "markdown",
   "id": "db9ef987",
   "metadata": {
    "id": "db9ef987"
   },
   "source": [
    "# 5. Logistic Regression classification<a name=\"2\"></a>"
   ]
  },
  {
   "cell_type": "code",
   "execution_count": null,
   "id": "Vh-RIHV-Zr9X",
   "metadata": {
    "id": "Vh-RIHV-Zr9X"
   },
   "outputs": [],
   "source": [
    "# import numpy as np\n",
    "# import matplotlib.pyplot as plt\n",
    "# import matplotlib\n",
    "# import keras\n",
    "# import tensorflow as tf\n",
    "from sklearn.linear_model import LogisticRegression\n",
    "from sklearn import preprocessing\n",
    "# from io import StringIO\n",
    "# import requests\n",
    "# from random import randint\n",
    "# print(tf.__version__)\n",
    "# print('keras:',keras.__version__)"
   ]
  },
  {
   "cell_type": "code",
   "execution_count": null,
   "id": "16c0e3ac",
   "metadata": {
    "id": "16c0e3ac"
   },
   "outputs": [],
   "source": [
    "data = X_train\n",
    "data_test = X_test\n",
    "target = y_train\n",
    "target_test = y_test\n",
    "\n",
    "lr_classifier = LogisticRegression(solver='newton-cg', random_state=0).fit(data, target)"
   ]
  },
  {
   "cell_type": "code",
   "execution_count": null,
   "id": "xSIP_9uZbt9G",
   "metadata": {
    "colab": {
     "base_uri": "https://localhost:8080/"
    },
    "id": "xSIP_9uZbt9G",
    "outputId": "70786ad9-3778-4304-93ab-1baa699cc16b"
   },
   "outputs": [],
   "source": [
    "print('----- Logistic Regression PERFORMANCE ON TRAINING DATASET -----')\n",
    "lr_predictions = lr_classifier.predict(data)\n",
    "lr_accuracy = accuracy_score(target, lr_predictions)\n",
    "print('Accuracy: ', lr_accuracy)\n",
    "\n",
    "print(\"Classification report:\")\n",
    "target_names = ['class 1', 'class 2']\n",
    "print(classification_report(target, lr_predictions, target_names=target_names))\n",
    "\n",
    "print(\"Confusion matrix:\")\n",
    "plot_confusion_matrix(lr_classifier, data, target)  \n",
    "\n",
    "print(\"ROC curve\")\n",
    "plot_roc_curve(lr_classifier, data, target)  "
   ]
  },
  {
   "cell_type": "code",
   "execution_count": null,
   "id": "dl_fxjLjcmkv",
   "metadata": {
    "colab": {
     "base_uri": "https://localhost:8080/"
    },
    "id": "dl_fxjLjcmkv",
    "outputId": "820a3830-8eb3-46a2-fe65-77bd8dfdf2ef"
   },
   "outputs": [],
   "source": [
    "print('----- Logistic Regression PERFORMANCE ON TRAINING DATASET -----')\n",
    "lr_predictions = lr_classifier.predict(data_test)\n",
    "lr_accuracy = accuracy_score(target_test, lr_predictions)\n",
    "print('Accuracy: ', lr_accuracy)\n",
    "\n",
    "print(\"Classification report:\")\n",
    "target_names = ['class 1', 'class 2']\n",
    "print(classification_report(target_test, lr_predictions, target_names=target_names))\n",
    "\n",
    "print(\"Confusion matrix:\")\n",
    "plot_confusion_matrix(lr_classifier, data_test, target_test)  \n",
    "\n",
    "print(\"ROC curve\")\n",
    "plot_roc_curve(lr_classifier, data_test, target_test)  "
   ]
  },
  {
   "cell_type": "code",
   "execution_count": null,
   "id": "vwvrnCetc3fu",
   "metadata": {
    "colab": {
     "base_uri": "https://localhost:8080/"
    },
    "id": "vwvrnCetc3fu",
    "outputId": "eaf8c19b-db05-4bb6-afdb-4105b7e80a5f"
   },
   "outputs": [],
   "source": [
    "scores = cross_val_score(lr_classifier, data, target, cv=5)\n",
    "print(\"Scores: \", sorted(scores))\n",
    "\n",
    "print(f\"{scores.mean()} accuracy with a standard deviation of {scores.std()}\")"
   ]
  },
  {
   "cell_type": "markdown",
   "id": "961a8a32",
   "metadata": {
    "id": "961a8a32"
   },
   "source": [
    "# 6. Logistic Regression classification with PCA<a name=\"2\"></a>"
   ]
  },
  {
   "cell_type": "code",
   "execution_count": null,
   "id": "23529078",
   "metadata": {
    "id": "23529078"
   },
   "outputs": [],
   "source": [
    "data = X_train_pca_5\n",
    "data_test = X_test_pca_5\n",
    "target = y_train\n",
    "target_test = y_test\n",
    "\n"
   ]
  },
  {
   "cell_type": "code",
   "execution_count": null,
   "id": "_ByZ1IPbfkXD",
   "metadata": {
    "id": "_ByZ1IPbfkXD"
   },
   "outputs": [],
   "source": [
    "lr_classifier = LogisticRegression(solver='newton-cg', random_state=0).fit(data, target)"
   ]
  },
  {
   "cell_type": "code",
   "execution_count": null,
   "id": "vy2MQRj1fkSK",
   "metadata": {
    "colab": {
     "base_uri": "https://localhost:8080/"
    },
    "id": "vy2MQRj1fkSK",
    "outputId": "d36c353e-1828-4c3b-fb54-bb25b24f3d29"
   },
   "outputs": [],
   "source": [
    "print('----- Logistic Regression PERFORMANCE ON TRAINING DATASET -----')\n",
    "lr_predictions = lr_classifier.predict(data)\n",
    "lr_accuracy = accuracy_score(target, lr_predictions)\n",
    "print('Accuracy: ', lr_accuracy)\n",
    "\n",
    "print(\"Classification report:\")\n",
    "target_names = ['class 1', 'class 2']\n",
    "print(classification_report(target, lr_predictions, target_names=target_names))\n",
    "\n",
    "print(\"Confusion matrix:\")\n",
    "plot_confusion_matrix(lr_classifier, data, target)  \n",
    "\n",
    "print(\"ROC curve\")\n",
    "plot_roc_curve(lr_classifier, data, target)  "
   ]
  },
  {
   "cell_type": "code",
   "execution_count": null,
   "id": "9UvomWFXfmIV",
   "metadata": {
    "colab": {
     "base_uri": "https://localhost:8080/"
    },
    "id": "9UvomWFXfmIV",
    "outputId": "f6ce6b0f-2c0d-411c-ed78-587522f6d322"
   },
   "outputs": [],
   "source": [
    "print('----- Logistic Regression PERFORMANCE ON TRAINING DATASET -----')\n",
    "lr_predictions = lr_classifier.predict(data_test)\n",
    "lr_accuracy = accuracy_score(target_test, lr_predictions)\n",
    "print('Accuracy: ', lr_accuracy)\n",
    "\n",
    "print(\"Classification report:\")\n",
    "target_names = ['class 1', 'class 2']\n",
    "print(classification_report(target_test, lr_predictions, target_names=target_names))\n",
    "\n",
    "print(\"Confusion matrix:\")\n",
    "plot_confusion_matrix(lr_classifier, data_test, target_test)  \n",
    "\n",
    "print(\"ROC curve\")\n",
    "plot_roc_curve(lr_classifier, data_test, target_test)  "
   ]
  },
  {
   "cell_type": "code",
   "execution_count": null,
   "id": "SHoOyqSxfnmj",
   "metadata": {
    "colab": {
     "base_uri": "https://localhost:8080/"
    },
    "id": "SHoOyqSxfnmj",
    "outputId": "3b7e0ea2-4d06-4b5e-d666-868a03ada6d4"
   },
   "outputs": [],
   "source": [
    "scores = cross_val_score(lr_classifier, data, target, cv=5)\n",
    "print(\"Scores: \", sorted(scores))\n",
    "\n",
    "print(f\"{scores.mean()} accuracy with a standard deviation of {scores.std()}\")"
   ]
  }
 ],
 "metadata": {
  "colab": {
   "name": "WDSI_project.ipynb",
   "provenance": [],
   "toc_visible": true
  },
  "kernelspec": {
   "display_name": "Python 3",
   "language": "python",
   "name": "python3"
  },
  "language_info": {
   "codemirror_mode": {
    "name": "ipython",
    "version": 3
   },
   "file_extension": ".py",
   "mimetype": "text/x-python",
   "name": "python",
   "nbconvert_exporter": "python",
   "pygments_lexer": "ipython3",
   "version": "3.8.8"
  }
 },
 "nbformat": 4,
 "nbformat_minor": 5
}
